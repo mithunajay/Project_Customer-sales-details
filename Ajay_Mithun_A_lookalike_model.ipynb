{
 "cells": [
  {
   "cell_type": "code",
   "execution_count": 17,
   "id": "9a8899c5-20e8-45b0-aa56-592246c25e01",
   "metadata": {},
   "outputs": [
    {
     "name": "stdout",
     "output_type": "stream",
     "text": [
      "Requirement already satisfied: scikit-learn in c:\\users\\ajaym\\appdata\\local\\programs\\python\\python313\\lib\\site-packages (1.6.1)Note: you may need to restart the kernel to use updated packages.\n"
     ]
    },
    {
     "name": "stderr",
     "output_type": "stream",
     "text": [
      "\n",
      "[notice] A new release of pip is available: 24.3.1 -> 25.0\n",
      "[notice] To update, run: python.exe -m pip install --upgrade pip\n"
     ]
    },
    {
     "name": "stdout",
     "output_type": "stream",
     "text": [
      "\n",
      "Requirement already satisfied: numpy>=1.19.5 in c:\\users\\ajaym\\appdata\\local\\programs\\python\\python313\\lib\\site-packages (from scikit-learn) (2.2.2)\n",
      "Requirement already satisfied: scipy>=1.6.0 in c:\\users\\ajaym\\appdata\\local\\programs\\python\\python313\\lib\\site-packages (from scikit-learn) (1.15.1)\n",
      "Requirement already satisfied: joblib>=1.2.0 in c:\\users\\ajaym\\appdata\\local\\programs\\python\\python313\\lib\\site-packages (from scikit-learn) (1.4.2)\n",
      "Requirement already satisfied: threadpoolctl>=3.1.0 in c:\\users\\ajaym\\appdata\\local\\programs\\python\\python313\\lib\\site-packages (from scikit-learn) (3.5.0)\n"
     ]
    }
   ],
   "source": [
    "pip install scikit-learn"
   ]
  },
  {
   "cell_type": "code",
   "execution_count": 16,
   "id": "91496c5a-c574-4e5d-8f06-b80f972cd7a2",
   "metadata": {},
   "outputs": [
    {
     "name": "stdout",
     "output_type": "stream",
     "text": [
      "Lookalike recommendations saved to 'D:/zeotap/model_csv\\Lookalike.csv'.\n"
     ]
    }
   ],
   "source": [
    "# Import Libraries\n",
    "import os\n",
    "import pandas as pd\n",
    "from sklearn.metrics.pairwise import cosine_similarity\n",
    "from sklearn.preprocessing import StandardScaler\n",
    "\n",
    "# Load the Datasets of customer,product and transactions\n",
    "customers = pd.read_csv(\"D:/zeotap/Customers - Customers.csv\")  \n",
    "products = pd.read_csv(\"D:/zeotap/Products - Products.csv\")   \n",
    "transactions = pd.read_csv(\"D:/zeotap/Transactions - Transactions.csv\")  \n",
    "\n",
    "# Combine transactions with customer and product data\n",
    "data = transactions.merge(customers, on=\"CustomerID\", how=\"left\")\n",
    "data = data.merge(products, on=\"ProductID\", how=\"left\")\n",
    "\n",
    "# Create a summary for each customer\n",
    "customer_summary = data.groupby(\"CustomerID\").agg(\n",
    "    TotalSpending=(\"TotalValue\", \"sum\"),             \n",
    "    AvgTransactionValue=(\"TotalValue\", \"mean\"),     \n",
    "    TotalTransactions=(\"TransactionID\", \"count\")    \n",
    ").reset_index()\n",
    "\n",
    "# Add categorical features like Region (from the customer dataset)\n",
    "customer_summary = customer_summary.merge(customers[['CustomerID', 'Region']], on=\"CustomerID\", how=\"left\")\n",
    "\n",
    "# One-Hot Encoding for the 'Region' column (convert text to numbers)\n",
    "customer_summary = pd.get_dummies(customer_summary, columns=[\"Region\"], drop_first=True)\n",
    "\n",
    "# Normalize numerical columns (scaling values to a similar range)\n",
    "scaler = StandardScaler()\n",
    "numerical_columns = [\"TotalSpending\", \"AvgTransactionValue\", \"TotalTransactions\"]\n",
    "customer_summary[numerical_columns] = scaler.fit_transform(customer_summary[numerical_columns])\n",
    "\n",
    "# Calculate pairwise cosine similarity for customers\n",
    "similarity_matrix = cosine_similarity(customer_summary[numerical_columns + list(customer_summary.columns[4:])])\n",
    "similarity_df = pd.DataFrame(similarity_matrix, index=customer_summary['CustomerID'], columns=customer_summary['CustomerID'])\n",
    "\n",
    "# Get top 3 similar customers for the first 20 customers (C0001-C0020)\n",
    "lookalike_map = {}\n",
    "for customer_id in customers['CustomerID'][:20]:  # First 20 customers\n",
    "    if customer_id in similarity_df.index:\n",
    "        # Get the 3 most similar customers (excluding the customer itself)\n",
    "        similar_customers = similarity_df[customer_id].nlargest(4)[1:]  # Exclude self\n",
    "        lookalike_map[customer_id] = list(similar_customers.items())\n",
    "        \n",
    "# Create a list to store results\n",
    "lookalike_data = []\n",
    "for customer_id, lookalikes in lookalike_map.items():\n",
    "    for similar_customer, score in lookalikes:\n",
    "        lookalike_data.append({\n",
    "            \"CustomerID\": customer_id,\n",
    "            \"SimilarCustomerID\": similar_customer,\n",
    "            \"Score\": score\n",
    "        })\n",
    "# Results in Lookalike.csv\n",
    "\n",
    "# Folder path\n",
    "folder_path = \"D:/zeotap/model_csv\"\n",
    "\n",
    "# Check if the folder exists, if not, create it\n",
    "if not os.path.exists(folder_path):\n",
    "    os.makedirs(folder_path)\n",
    "\n",
    "# Define the full file path for saving\n",
    "output_path = os.path.join(folder_path, \"Lookalike.csv\")\n",
    "\n",
    "# Save the DataFrame to CSV\n",
    "lookalike_df.to_csv(output_path, index=False)\n",
    "print(f\"Lookalike recommendations saved to '{output_path}'.\")\n",
    "\n"
   ]
  },
  {
   "cell_type": "code",
   "execution_count": null,
   "id": "dc53f30c-b5b8-4319-9254-84b64a4ded10",
   "metadata": {},
   "outputs": [],
   "source": []
  }
 ],
 "metadata": {
  "kernelspec": {
   "display_name": "Python 3 (ipykernel)",
   "language": "python",
   "name": "python3"
  },
  "language_info": {
   "codemirror_mode": {
    "name": "ipython",
    "version": 3
   },
   "file_extension": ".py",
   "mimetype": "text/x-python",
   "name": "python",
   "nbconvert_exporter": "python",
   "pygments_lexer": "ipython3",
   "version": "3.13.1"
  }
 },
 "nbformat": 4,
 "nbformat_minor": 5
}
